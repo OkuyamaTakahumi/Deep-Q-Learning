{
 "cells": [
  {
   "cell_type": "code",
   "execution_count": 20,
   "metadata": {
    "collapsed": true
   },
   "outputs": [],
   "source": [
    "# coding:utf-8\n",
    "import matplotlib.pyplot as plt\n",
    "import matplotlib.pyplot as plt\n",
    "import numpy as np\n",
    "#from sklearn.externals import joblib\n",
    "from chainer import cuda, Variable, FunctionSet,\\\n",
    "   optimizers,Chain,serializers\n",
    "import chainer.functions  as F\n",
    "#import cv2\n",
    "\n",
    "#import sys\n",
    "import datetime\n",
    "#import os\n",
    "from collections import deque\n",
    "import copy\n",
    "\n",
    "import Visualize"
   ]
  },
  {
   "cell_type": "markdown",
   "metadata": {},
   "source": [
    "環境を作成するクラス"
   ]
  },
  {
   "cell_type": "code",
   "execution_count": 21,
   "metadata": {
    "collapsed": false
   },
   "outputs": [],
   "source": [
    "class Forward_Enviroment():\n",
    "  def __init__(self,Train):\n",
    "    # parameters\n",
    "    #self.name = os.path.splitext(os.path.basename(__file__))[0]\n",
    "    self.screen_n_y = 8\n",
    "    self.screen_n_x = 8\n",
    "    self.player_length = 1\n",
    "    #self.frame_rate = 5\n",
    "    self.Train=Train\n",
    "    if not Train:\n",
    "      self.player_x = np.random.randint(self.screen_n_x - self.player_length)\n",
    "\n",
    "  def reset(self):\n",
    "    # reset player position\n",
    "    self.player_y = self.screen_n_y - 1\n",
    "    if self.Train:\n",
    "      self.player_x = np.random.randint(self.screen_n_x - self.player_length)\n",
    "\n",
    "    # reset goal position\n",
    "    self.goal_y = 0\n",
    "    self.goal_x = np.random.randint(self.screen_n_x)\n",
    "    # reset other variables\n",
    "    self.reward = 0\n",
    "    self.ep_end = False\n",
    "    self.draw()\n",
    "    return self.screen\n",
    "  def step(self, action):\n",
    "    # update player position\n",
    "    if action == 'left':\n",
    "      # move left\n",
    "      self.player_x = max(0, self.player_x - 1)\n",
    "    elif action == 'right':\n",
    "      # move right\n",
    "      self.player_x = min(self.player_x + 1, self.screen_n_x - self.player_length)\n",
    "    elif action == 'up':\n",
    "      # do nothing\n",
    "      pass\n",
    "    # update goal position\n",
    "    self.goal_y += 1\n",
    "    # xlision detection\n",
    "    self.reward = 0\n",
    "    self.ep_end = False\n",
    "    if self.goal_y == self.player_y:\n",
    "        self.ep_end = True\n",
    "        # self.player_x == self.goal_xと同じ意味\n",
    "        if self.player_x == self.goal_x :\n",
    "            # goal\n",
    "            self.reward = 10\n",
    "        else:\n",
    "            # 衝突\n",
    "            self.reward = -10\n",
    "    self.draw()\n",
    "    return self.screen, self.reward, self.ep_end\n",
    "  def draw(self):\n",
    "      # reset screen\n",
    "      self.screen = np.zeros((self.screen_n_y, self.screen_n_x))\n",
    "      kabe = np.ones((self.screen_n_x))/2.0\n",
    "      self.screen[self.goal_y]=kabe\n",
    "      # draw goal\n",
    "      self.screen[self.goal_y, self.goal_x] = 0\n",
    "      # draw player\n",
    "      self.screen[self.player_y, self.player_x:self.player_x + self.player_length] = 1\n",
    "  '''\n",
    "  def observe(self):\n",
    "      self.draw()\n",
    "      return self.screen, self.reward, self.ep_end\n",
    "  def execute_action(self, action):\n",
    "      self.step(action)\n",
    "  '''"
   ]
  },
  {
   "cell_type": "markdown",
   "metadata": {},
   "source": [
    "NNを設定するクラス"
   ]
  },
  {
   "cell_type": "code",
   "execution_count": 22,
   "metadata": {
    "collapsed": false
   },
   "outputs": [],
   "source": [
    "class DQN_NN(object):\n",
    "  def __init__(self,n_act):\n",
    "    self.N_input = 64\n",
    "    N_output = n_act\n",
    "    #N_unit = (self.N_input-1)*2\n",
    "    N_unit = 64\n",
    "    self.model = FunctionSet(\n",
    "      l1=F.Linear(self.N_input,N_unit),\n",
    "      #l2=F.Linear(N_unit, N_unit),\n",
    "      #l3=F.Linear(N_unit, N_unit),\n",
    "      l4=F.Linear(N_unit, N_output,initialW=np.zeros((N_output, N_unit), dtype=np.float32)))\n",
    "  def Q_func(self,x):\n",
    "    N,h,w=x.shape\n",
    "    x=x.reshape(N,h*w)\n",
    "    x = Variable(x)\n",
    "    h = F.leaky_relu(self.model.l1(x))\n",
    "    #h = F.leaky_relu(self.model.l2(h))\n",
    "    #h = F.leaky_relu(self.model.l3(h))\n",
    "    y = self.model.l4(h)\n",
    "    return y"
   ]
  },
  {
   "cell_type": "markdown",
   "metadata": {},
   "source": [
    "Agentに関するクラス"
   ]
  },
  {
   "cell_type": "code",
   "execution_count": 23,
   "metadata": {
    "collapsed": false
   },
   "outputs": [],
   "source": [
    "class Agent():\n",
    "  def __init__(self,n_act,Train):\n",
    "    self.n_act = n_act\n",
    "    self.NN = DQN_NN(n_act)\n",
    "    self.target_NN = copy.deepcopy(self.NN)\n",
    "    self.optimizer = optimizers.Adam()\n",
    "    self.optimizer.setup(self.NN.model)\n",
    "    self.mem_size = 1000 # Experience Replayのために覚えておく経験の数\n",
    "    self.memory = deque(maxlen=self.mem_size)\n",
    "    self.gamma = 0.99 # 割引率\n",
    "    self.batch_size = 32 # Experience Replayの際のミニバッチの大きさ\n",
    "    #self.train_freq = 100 # ニューラルネットワークの学習間隔\n",
    "    self.target_update_freq = 1 # ターゲットネットワークの同期間隔\n",
    "    # ε-greedy\n",
    "    self.epsilon_min = 0.1 # εの最小値\n",
    "    if Train:\n",
    "      self.epsilon = 1.0# εの初期値->小さいほどgreedy\n",
    "      self.epsilon_decay = 0.001 # εの減衰値\n",
    "    else:\n",
    "      self.epsilon = 0 # εの初期値->小さいほどgreedy\n",
    "      self.epsilon_decay = 0 # εの減衰値\n",
    "\n",
    "    #self.exploration = 1000 # εを減衰し始めるまでのステップ数(今回はメモリーが貯まるまで)\n",
    "  def get_action(self, st):\n",
    "    #各行動の価値が含まれた(n_act,)のarrayを返す\n",
    "    if np.random.rand() < self.epsilon:\n",
    "      return np.random.rand(self.n_act)\n",
    "    else:\n",
    "      #-----NN用のデータ準備[float32->reshape(N,1,h,w)]\n",
    "      st = np.array([st], dtype=np.float32)\n",
    "      #st = st.reshape(1,9)\n",
    "      Q = self.NN.Q_func(st)\n",
    "      return Q.data[0]\n",
    "  def stock_experience(self, st, act, r, st_dash, ep_end):\n",
    "    self.memory.append((st, act, r, st_dash, ep_end))\n",
    "  #-----学習-----\n",
    "  def gakushu(self,step):\n",
    "    self.experience_replay()\n",
    "    print u\"学習\"\n",
    "\n",
    "    if len(self.memory) >= self.mem_size:\n",
    "      self.reduce_epsilon()\n",
    "      print u\"ε = \",self.epsilon\n",
    "      if step % self.target_update_freq == 0:\n",
    "        self.target_NN = copy.deepcopy(self.NN)\n",
    "  def experience_replay(self):\n",
    "    #シャッフル\n",
    "    mem = np.random.permutation(list(self.memory))\n",
    "    for i in xrange(0, len(mem), self.batch_size):\n",
    "      batch = mem[i:i+self.batch_size]\n",
    "      st_batch,act_batch,r_batch,st_dash_batch,ep_end_batch = [], [], [], [], []\n",
    "      #print batch\n",
    "      for j in xrange(len(batch)):\n",
    "        st_batch.append(batch[j][0])\n",
    "        act_batch.append(batch[j][1])\n",
    "        r_batch.append(batch[j][2])\n",
    "        st_dash_batch.append(batch[j][3])\n",
    "        ep_end_batch.append(batch[j][4])\n",
    "      # 勾配を初期化\n",
    "      self.optimizer.zero_grads()\n",
    "      # 順伝播させて誤差と精度を算出\n",
    "      loss = self.calc_loss(st_batch,act_batch,r_batch,st_dash_batch,ep_end_batch)\n",
    "      # 誤差逆伝播で勾配を計算\n",
    "      loss.backward()\n",
    "      self.optimizer.update()\n",
    "  def calc_loss(self, st_batch,act_batch,r_batch,st_dash_batch,ep_end_batch):\n",
    "    #-----NN用のデータ準備[float32->reshape(N,1,h,w)]\n",
    "    st_batch = np.array(st_batch, dtype=np.float32)\n",
    "    act_batch = np.array(act_batch, dtype=np.int8)\n",
    "    r_batch = np.array(r_batch, dtype=np.float32)\n",
    "    st_dash_batch = np.array(st_dash_batch, dtype=np.float32)\n",
    "    ep_end_batch = np.array(ep_end_batch, dtype=np.bool)\n",
    "\n",
    "    Q = self.NN.Q_func(st_batch)\n",
    "    tmp = self.target_NN.Q_func(st_dash_batch)\n",
    "    max_Q_dash = np.array(map(np.max,tmp.data), dtype=np.float32)\n",
    "    #target = np.asanyarray(copy.deepcopy(Q.data), dtype=np.float32)\n",
    "    target = np.copy(Q.data)\n",
    "    for j in xrange(len(st_batch)):\n",
    "      if ep_end_batch[j]:\n",
    "        target[j, act_batch[j]] = r_batch[j]\n",
    "      else:\n",
    "        target[j, act_batch[j]] = r_batch[j] + (self.gamma * max_Q_dash[j])\n",
    "    loss = F.mean_squared_error(Q, Variable(target))\n",
    "    return loss\n",
    "  def reduce_epsilon(self):\n",
    "    if self.epsilon > self.epsilon_decay:\n",
    "      self.epsilon -= self.epsilon_decay\n",
    "    elif self.epsilon > self.epsilon_min:\n",
    "      self.epsilon = self.epsilon_min\n",
    "  def save_model(self):\n",
    "    modelname = \"model_%s\"%(datetime.datetime.now().strftime(\"%m-%d-%H-%M\"))\n",
    "    serializers.save_npz(\"./modelkeep/%s\"%(modelname),self.NN.model)\n",
    "    print u\"モデルを保存しました(Model_Name=%s)\"%(modelname)\n",
    "    print \"----------------------------------------------\"\n",
    "  def load_model(self,model_name):\n",
    "    serializers.load_npz('./modelKeep/'+model_name,self.NN.model)"
   ]
  },
  {
   "cell_type": "markdown",
   "metadata": {},
   "source": [
    "トレーニング、テストを行う関数"
   ]
  },
  {
   "cell_type": "code",
   "execution_count": 24,
   "metadata": {
    "collapsed": false
   },
   "outputs": [],
   "source": [
    "def train(action_list):\n",
    "  n_act = len(action_list)\n",
    "  env=Forward_Enviroment(True)\n",
    "  agent=Agent(n_act,True)\n",
    "  step=1\n",
    "  n_episode=2333\n",
    "  meiroset=deque()\n",
    "  titleset=deque()\n",
    "  for i_episode in range(n_episode):\n",
    "    st=env.reset()\n",
    "    meiroset.append(st)\n",
    "    titleset.append('start')\n",
    "    ep_end = False\n",
    "    while not ep_end:\n",
    "      act_i_array=agent.get_action(st)\n",
    "      act_i= act_i_array.argmax()\n",
    "      action=action_list[act_i]\n",
    "      observation,reward,ep_end=env.step(action)\n",
    "      st_dash = observation\n",
    "      agent.stock_experience(st, act_i, reward, st_dash, ep_end)\n",
    "      step +=1\n",
    "      st = observation\n",
    "      meiroset.append(st)\n",
    "      titleset.append('%s(r=%d)'%(action,reward))\n",
    "    print \"----------------------------------------------\"\n",
    "    if reward < 0:\n",
    "      print u'衝突!!'\n",
    "    else:\n",
    "      print u'回避!!'\n",
    "    print \"----------------------------------------------\"\n",
    "    agent.gakushu(step)\n",
    "  agent.save_model()\n",
    "  #Visualize.draw_Meiro_set(meiroset,titleset)\n",
    "  #Visualize.Make_animation(meiroset)\n",
    "\n",
    "def test(action_list):\n",
    "  n_act = len(action_list)\n",
    "  env=Forward_Enviroment(False)\n",
    "  agent=Agent(n_act,False)\n",
    "\n",
    "  model_name='model_8-forward_NLP'\n",
    "  agent.load_model(model_name)\n",
    "\n",
    "  step=1\n",
    "  n_episode=100\n",
    "  meiroset=deque()\n",
    "  titleset=deque()\n",
    "  shoutotu=0\n",
    "  kaihi=0\n",
    "  for i_episode in range(n_episode):\n",
    "    st=env.reset()\n",
    "    meiroset.append(st)\n",
    "    titleset.append('start')\n",
    "    ep_end = False\n",
    "    while not ep_end:\n",
    "      act_i_array=agent.get_action(st)\n",
    "      act_i= act_i_array.argmax()\n",
    "\n",
    "\n",
    "      #act_i = np.random.randint(0,n_act)\n",
    "\n",
    "\n",
    "      action=action_list[act_i]\n",
    "      observation,reward,ep_end=env.step(action)\n",
    "      st = observation\n",
    "      meiroset.append(st)\n",
    "      titleset.append('%s(r=%d)'%(action,reward))\n",
    "    print \"----------------------------------------------\"\n",
    "    if reward < 0:\n",
    "      shoutotu+=1\n",
    "      print u'衝突!!'\n",
    "    else:\n",
    "      kaihi+=1\n",
    "      print u'回避!!'\n",
    "    print \"----------------------------------------------\"\n",
    "  print u\"テスト回数 = %d\"%(n_episode)\n",
    "  print u\"衝突回数 = %d , 回避回数 = %d\"%(shoutotu,kaihi)\n",
    "  kaihiritu = float(kaihi)/n_episode\n",
    "  print u\"回避率 = \"+str(kaihiritu)+\"%\"\n",
    "  #Visualize.draw_Meiro_set(meiroset,titleset)\n",
    "  #Visualize.Make_animation(meiroset)"
   ]
  },
  {
   "cell_type": "markdown",
   "metadata": {},
   "source": [
    "実行部分"
   ]
  },
  {
   "cell_type": "code",
   "execution_count": 25,
   "metadata": {
    "collapsed": false,
    "scrolled": true
   },
   "outputs": [
    {
     "name": "stdout",
     "output_type": "stream",
     "text": [
      "----------------------------------------------\n",
      "回避!!\n",
      "----------------------------------------------\n",
      "----------------------------------------------\n",
      "回避!!\n",
      "----------------------------------------------\n",
      "----------------------------------------------\n",
      "回避!!\n",
      "----------------------------------------------\n",
      "----------------------------------------------\n",
      "回避!!\n",
      "----------------------------------------------\n",
      "----------------------------------------------\n",
      "回避!!\n",
      "----------------------------------------------\n",
      "----------------------------------------------\n",
      "回避!!\n",
      "----------------------------------------------\n",
      "----------------------------------------------\n",
      "回避!!\n",
      "----------------------------------------------\n",
      "----------------------------------------------\n",
      "回避!!\n",
      "----------------------------------------------\n",
      "----------------------------------------------\n",
      "回避!!\n",
      "----------------------------------------------\n",
      "----------------------------------------------\n",
      "回避!!\n",
      "----------------------------------------------\n",
      "----------------------------------------------\n",
      "回避!!\n",
      "----------------------------------------------\n",
      "----------------------------------------------\n",
      "回避!!\n",
      "----------------------------------------------\n",
      "----------------------------------------------\n",
      "回避!!\n",
      "----------------------------------------------\n",
      "----------------------------------------------\n",
      "回避!!\n",
      "----------------------------------------------\n",
      "----------------------------------------------\n",
      "回避!!\n",
      "----------------------------------------------\n",
      "----------------------------------------------\n",
      "回避!!\n",
      "----------------------------------------------\n",
      "----------------------------------------------\n",
      "回避!!\n",
      "----------------------------------------------\n",
      "----------------------------------------------\n",
      "回避!!\n",
      "----------------------------------------------\n",
      "----------------------------------------------\n",
      "回避!!\n",
      "----------------------------------------------\n",
      "----------------------------------------------\n",
      "衝突!!\n",
      "----------------------------------------------\n",
      "----------------------------------------------\n",
      "回避!!\n",
      "----------------------------------------------\n",
      "----------------------------------------------\n",
      "衝突!!\n",
      "----------------------------------------------\n",
      "----------------------------------------------\n",
      "回避!!\n",
      "----------------------------------------------\n",
      "----------------------------------------------\n",
      "回避!!\n",
      "----------------------------------------------\n",
      "----------------------------------------------\n",
      "回避!!\n",
      "----------------------------------------------\n",
      "----------------------------------------------\n",
      "回避!!\n",
      "----------------------------------------------\n",
      "----------------------------------------------\n",
      "回避!!\n",
      "----------------------------------------------\n",
      "----------------------------------------------\n",
      "回避!!\n",
      "----------------------------------------------\n",
      "----------------------------------------------\n",
      "回避!!\n",
      "----------------------------------------------\n",
      "----------------------------------------------\n",
      "回避!!\n",
      "----------------------------------------------\n",
      "----------------------------------------------\n",
      "回避!!\n",
      "----------------------------------------------\n",
      "----------------------------------------------\n",
      "回避!!\n",
      "----------------------------------------------\n",
      "----------------------------------------------\n",
      "回避!!\n",
      "----------------------------------------------\n",
      "----------------------------------------------\n",
      "回避!!\n",
      "----------------------------------------------\n",
      "----------------------------------------------\n",
      "衝突!!\n",
      "----------------------------------------------\n",
      "----------------------------------------------\n",
      "回避!!\n",
      "----------------------------------------------\n",
      "----------------------------------------------\n",
      "回避!!\n",
      "----------------------------------------------\n",
      "----------------------------------------------\n",
      "衝突!!\n",
      "----------------------------------------------\n",
      "----------------------------------------------\n",
      "回避!!\n",
      "----------------------------------------------\n",
      "----------------------------------------------\n",
      "衝突!!\n",
      "----------------------------------------------\n",
      "----------------------------------------------\n",
      "回避!!\n",
      "----------------------------------------------\n",
      "----------------------------------------------\n",
      "回避!!\n",
      "----------------------------------------------\n",
      "----------------------------------------------\n",
      "回避!!\n",
      "----------------------------------------------\n",
      "----------------------------------------------\n",
      "回避!!\n",
      "----------------------------------------------\n",
      "----------------------------------------------\n",
      "回避!!\n",
      "----------------------------------------------\n",
      "----------------------------------------------\n",
      "回避!!\n",
      "----------------------------------------------\n",
      "----------------------------------------------\n",
      "回避!!\n",
      "----------------------------------------------\n",
      "----------------------------------------------\n",
      "回避!!\n",
      "----------------------------------------------\n",
      "----------------------------------------------\n",
      "回避!!\n",
      "----------------------------------------------\n",
      "----------------------------------------------\n",
      "回避!!\n",
      "----------------------------------------------\n",
      "----------------------------------------------\n",
      "回避!!\n",
      "----------------------------------------------\n",
      "----------------------------------------------\n",
      "回避!!\n",
      "----------------------------------------------\n",
      "----------------------------------------------\n",
      "回避!!\n",
      "----------------------------------------------\n",
      "----------------------------------------------\n",
      "回避!!\n",
      "----------------------------------------------\n",
      "----------------------------------------------\n",
      "回避!!\n",
      "----------------------------------------------\n",
      "----------------------------------------------\n",
      "回避!!\n",
      "----------------------------------------------\n",
      "----------------------------------------------\n",
      "回避!!\n",
      "----------------------------------------------\n",
      "----------------------------------------------\n",
      "回避!!\n",
      "----------------------------------------------\n",
      "----------------------------------------------\n",
      "回避!!\n",
      "----------------------------------------------\n",
      "----------------------------------------------\n",
      "回避!!\n",
      "----------------------------------------------\n",
      "----------------------------------------------\n",
      "回避!!\n",
      "----------------------------------------------\n",
      "----------------------------------------------\n",
      "回避!!\n",
      "----------------------------------------------\n",
      "----------------------------------------------\n",
      "回避!!\n",
      "----------------------------------------------\n",
      "----------------------------------------------\n",
      "回避!!\n",
      "----------------------------------------------\n",
      "----------------------------------------------\n",
      "回避!!\n",
      "----------------------------------------------\n",
      "----------------------------------------------\n",
      "回避!!\n",
      "----------------------------------------------\n",
      "----------------------------------------------\n",
      "回避!!\n",
      "----------------------------------------------\n",
      "----------------------------------------------\n",
      "回避!!\n",
      "----------------------------------------------\n",
      "----------------------------------------------\n",
      "回避!!\n",
      "----------------------------------------------\n",
      "----------------------------------------------\n",
      "回避!!\n",
      "----------------------------------------------\n",
      "----------------------------------------------\n",
      "衝突!!\n",
      "----------------------------------------------\n",
      "----------------------------------------------\n",
      "回避!!\n",
      "----------------------------------------------\n",
      "----------------------------------------------\n",
      "回避!!\n",
      "----------------------------------------------\n",
      "----------------------------------------------\n",
      "衝突!!\n",
      "----------------------------------------------\n",
      "----------------------------------------------\n",
      "回避!!\n",
      "----------------------------------------------\n",
      "----------------------------------------------\n",
      "回避!!\n",
      "----------------------------------------------\n",
      "----------------------------------------------\n",
      "回避!!\n",
      "----------------------------------------------\n",
      "----------------------------------------------\n",
      "回避!!\n",
      "----------------------------------------------\n",
      "----------------------------------------------\n",
      "回避!!\n",
      "----------------------------------------------\n",
      "----------------------------------------------\n",
      "衝突!!\n",
      "----------------------------------------------\n",
      "----------------------------------------------\n",
      "回避!!\n",
      "----------------------------------------------\n",
      "----------------------------------------------\n",
      "回避!!\n",
      "----------------------------------------------\n",
      "----------------------------------------------\n",
      "回避!!\n",
      "----------------------------------------------\n",
      "----------------------------------------------\n",
      "回避!!\n",
      "----------------------------------------------\n",
      "----------------------------------------------\n",
      "回避!!\n",
      "----------------------------------------------\n",
      "----------------------------------------------\n",
      "回避!!\n",
      "----------------------------------------------\n",
      "----------------------------------------------\n",
      "回避!!\n",
      "----------------------------------------------\n",
      "----------------------------------------------\n",
      "回避!!\n",
      "----------------------------------------------\n",
      "----------------------------------------------\n",
      "回避!!\n",
      "----------------------------------------------\n",
      "----------------------------------------------\n",
      "回避!!\n",
      "----------------------------------------------\n",
      "----------------------------------------------\n",
      "回避!!\n",
      "----------------------------------------------\n",
      "----------------------------------------------\n",
      "回避!!\n",
      "----------------------------------------------\n",
      "----------------------------------------------\n",
      "回避!!\n",
      "----------------------------------------------\n",
      "----------------------------------------------\n",
      "回避!!\n",
      "----------------------------------------------\n",
      "----------------------------------------------\n",
      "回避!!\n",
      "----------------------------------------------\n",
      "----------------------------------------------\n",
      "回避!!\n",
      "----------------------------------------------\n",
      "----------------------------------------------\n",
      "回避!!\n",
      "----------------------------------------------\n",
      "----------------------------------------------\n",
      "回避!!\n",
      "----------------------------------------------\n",
      "----------------------------------------------\n",
      "回避!!\n",
      "----------------------------------------------\n",
      "----------------------------------------------\n",
      "回避!!\n",
      "----------------------------------------------\n",
      "テスト回数 = 100\n",
      "衝突回数 = 8 , 回避回数 = 92\n",
      "回避率 = 0.92%\n"
     ]
    }
   ],
   "source": [
    "action_list=['up','right','left']\n",
    "test(action_list)"
   ]
  },
  {
   "cell_type": "markdown",
   "metadata": {},
   "source": [
    "1ステップずつ行動する"
   ]
  },
  {
   "cell_type": "code",
   "execution_count": 16,
   "metadata": {
    "collapsed": false
   },
   "outputs": [
    {
     "name": "stdout",
     "output_type": "stream",
     "text": [
      "------------------スタート-------------------\n"
     ]
    }
   ],
   "source": [
    "action_list=['up','right','down','left']\n",
    "n_act = len(action_list)\n",
    "env=Kaihi_Enviroment()\n",
    "agent=Agent(n_act,False)\n",
    "#model_name = 'model_01-03-20-17-episode998'\n",
    "#serializers.load_npz('./modelKeep/'+model_name,agent.NN.model)\n",
    "st=env.reset()\n",
    "sum_reward=0\n",
    "i_episode_step=0"
   ]
  },
  {
   "cell_type": "code",
   "execution_count": 21,
   "metadata": {
    "collapsed": false
   },
   "outputs": [
    {
     "name": "stdout",
     "output_type": "stream",
     "text": [
      "行動前 :  [ 1.  1.  0.  1.  0.  1.  0.  1.]\n",
      "行動 :  up\n",
      "行動後 :  [ 1.  1.  0.  1.  0.  1.  0.  1.]\n",
      "reward :  -1\n"
     ]
    },
    {
     "data": {
      "image/png": "[encoded data removed]",
      "text/plain": [
       "<matplotlib.figure.Figure at 0x10cce6f90>"
      ]
     },
     "metadata": {},
     "output_type": "display_data"
    }
   ],
   "source": [
    "kaisu=1\n",
    "for i in range(1):\n",
    "    \n",
    "    act_i=0\n",
    "    #act_i=np.random.randint(0,4)\n",
    "    #act_i=agent.get_action(st)\n",
    "    \n",
    "    \n",
    "    action=action_list[act_i]       \n",
    "    observation,reward,ep_end=env.step(action)\n",
    "    \n",
    "    sum_reward+=reward\n",
    "    i_episode_step+=1\n",
    "    if i ==kaisu-1:\n",
    "        print u'行動前 : ',st\n",
    "        print u'行動 : ',action      \n",
    "    st = observation\n",
    "\n",
    "\n",
    "print u'行動後 : ',observation\n",
    "print u'reward : ',reward\n",
    "draw_Meiro(env.get_zentai_img(),'zentai')\n",
    "#print \"----------------------------------------------\"\n",
    "#print u'ゲーム終了'\n",
    "#print 'sum_reward=',sum_reward\n",
    "#print u'ゲームのステップ数 = %d'%(i_episode_step)\n",
    "#print \"----------------------------------------------\""
   ]
  },
  {
   "cell_type": "code",
   "execution_count": 1,
   "metadata": {
    "collapsed": true
   },
   "outputs": [],
   "source": [
    "import matplotlib.animation as animation\n",
    "import matplotlib.pyplot as plt\n",
    "import numpy as np\n",
    "\n",
    "fig = plt.figure(figsize = (10, 6))\n",
    "x = np.arange(0, 10, 0.1)\n",
    "\n",
    "def update(i, fig_title, A):\n",
    "    if i != 0:\n",
    "        plt.cla()                      # 現在描写されているグラフを消去\n",
    "\n",
    "    y = A * np.sin(x - i)\n",
    "    plt.plot(x, y, \"r\")\n",
    "    plt.title(fig_title + 'i=' + str(i))\n",
    "\n",
    "\n",
    "ani = animation.FuncAnimation(fig, update, fargs = ('Initial Animation! ', 2.0), \\\n",
    "    interval = 100, frames = 132)\n",
    "\n",
    "ani.save(\"GiF/Sample.gif\", writer = 'imagemagick')"
   ]
  },
  {
   "cell_type": "code",
   "execution_count": null,
   "metadata": {
    "collapsed": true
   },
   "outputs": [],
   "source": []
  },
  {
   "cell_type": "code",
   "execution_count": null,
   "metadata": {
    "collapsed": true
   },
   "outputs": [],
   "source": []
  },
  {
   "cell_type": "code",
   "execution_count": null,
   "metadata": {
    "collapsed": true
   },
   "outputs": [],
   "source": []
  },
  {
   "cell_type": "code",
   "execution_count": null,
   "metadata": {
    "collapsed": true
   },
   "outputs": [],
   "source": []
  },
  {
   "cell_type": "code",
   "execution_count": null,
   "metadata": {
    "collapsed": true
   },
   "outputs": [],
   "source": []
  },
  {
   "cell_type": "code",
   "execution_count": null,
   "metadata": {
    "collapsed": true
   },
   "outputs": [],
   "source": []
  },
  {
   "cell_type": "code",
   "execution_count": null,
   "metadata": {
    "collapsed": true
   },
   "outputs": [],
   "source": []
  },
  {
   "cell_type": "code",
   "execution_count": null,
   "metadata": {
    "collapsed": true
   },
   "outputs": [],
   "source": []
  },
  {
   "cell_type": "markdown",
   "metadata": {},
   "source": [
    "実験用セル"
   ]
  },
  {
   "cell_type": "code",
   "execution_count": 8,
   "metadata": {
    "collapsed": false,
    "scrolled": true
   },
   "outputs": [
    {
     "name": "stdout",
     "output_type": "stream",
     "text": [
      "[4 4 7 1 1 7 4 2 2 5]\n"
     ]
    }
   ],
   "source": [
    "print np.random.randint(1,8,10)"
   ]
  },
  {
   "cell_type": "code",
   "execution_count": 15,
   "metadata": {
    "collapsed": false
   },
   "outputs": [
    {
     "ename": "ValueError",
     "evalue": "axis(=1) out of bounds",
     "output_type": "error",
     "traceback": [
      "\u001b[0;31m---------------------------------------------------------------------------\u001b[0m",
      "\u001b[0;31mValueError\u001b[0m                                Traceback (most recent call last)",
      "\u001b[0;32m<ipython-input-15-6befce535b05>\u001b[0m in \u001b[0;36m<module>\u001b[0;34m()\u001b[0m\n\u001b[1;32m      1\u001b[0m \u001b[0mx\u001b[0m \u001b[0;34m=\u001b[0m \u001b[0mnp\u001b[0m\u001b[0;34m.\u001b[0m\u001b[0marange\u001b[0m\u001b[0;34m(\u001b[0m\u001b[0;34m-\u001b[0m\u001b[0;36m9\u001b[0m\u001b[0;34m,\u001b[0m \u001b[0;36m10\u001b[0m\u001b[0;34m)\u001b[0m\u001b[0;34m\u001b[0m\u001b[0m\n\u001b[1;32m      2\u001b[0m \u001b[0my\u001b[0m \u001b[0;34m=\u001b[0m \u001b[0mnp\u001b[0m\u001b[0;34m.\u001b[0m\u001b[0mcopy\u001b[0m\u001b[0;34m(\u001b[0m\u001b[0mx\u001b[0m\u001b[0;34m)\u001b[0m\u001b[0;34m\u001b[0m\u001b[0m\n\u001b[0;32m----> 3\u001b[0;31m \u001b[0my\u001b[0m \u001b[0;34m=\u001b[0m \u001b[0my\u001b[0m\u001b[0;34m.\u001b[0m\u001b[0margmax\u001b[0m\u001b[0;34m(\u001b[0m\u001b[0maxis\u001b[0m\u001b[0;34m=\u001b[0m\u001b[0;36m1\u001b[0m\u001b[0;34m)\u001b[0m\u001b[0;34m\u001b[0m\u001b[0m\n\u001b[0m\u001b[1;32m      4\u001b[0m \u001b[0;32mprint\u001b[0m \u001b[0my\u001b[0m\u001b[0;34m\u001b[0m\u001b[0m\n",
      "\u001b[0;31mValueError\u001b[0m: axis(=1) out of bounds"
     ]
    }
   ],
   "source": [
    "x = np.arange(-9, 10)\n",
    "y = np.copy(x)\n",
    "y = y.argmax(axis=1)\n",
    "print y\n"
   ]
  },
  {
   "cell_type": "code",
   "execution_count": 6,
   "metadata": {
    "collapsed": false
   },
   "outputs": [
    {
     "name": "stdout",
     "output_type": "stream",
     "text": [
      "deque([3, 4, 5, 6, 7], maxlen=5)\n"
     ]
    }
   ],
   "source": [
    "memory = deque(maxlen=5)\n",
    "for i in range(8):  \n",
    "    memory.append(i)\n",
    "print memory"
   ]
  },
  {
   "cell_type": "code",
   "execution_count": 14,
   "metadata": {
    "collapsed": false,
    "scrolled": true
   },
   "outputs": [
    {
     "name": "stdout",
     "output_type": "stream",
     "text": [
      "[0]\n",
      "[0, 1, 2, 3, 4, 5, 6, 7, 8, 9, 10, 11, 12, 13, 14, 15, 16, 17, 18, 19, 20, 21, 22, 23, 24, 25, 26, 27, 28, 29, 30, 31, 32, 33, 34, 35, 36, 37, 38, 39]\n"
     ]
    }
   ],
   "source": [
    "mini = np.random.permutation(1000)[4]\n",
    "a = range(0,40,50)\n",
    "print a\n",
    "for i in range(0,40,50):\n",
    "  batch = range(0,40)[i : i+50]\n",
    "  print batch"
   ]
  },
  {
   "cell_type": "code",
   "execution_count": 42,
   "metadata": {
    "collapsed": false
   },
   "outputs": [
    {
     "name": "stdout",
     "output_type": "stream",
     "text": [
      "[ 0.7         0.78635689  0.45352123]\n"
     ]
    }
   ],
   "source": [
    "a = np.array([0.7,np.random.rand(),max(np.random.rand()-0.2,0.0)])\n",
    "print a"
   ]
  },
  {
   "cell_type": "code",
   "execution_count": 73,
   "metadata": {
    "collapsed": false
   },
   "outputs": [
    {
     "name": "stdout",
     "output_type": "stream",
     "text": [
      "[[  0.    1.    2.    3.    4.    5.    6.    0. ]\n",
      " [  8.    9.   10.   11.   12.   13.   14.    0. ]\n",
      " [ 16.   17.   18.   19.   20.   21.   22.    0. ]\n",
      " [ 24.   25.   26.   27.   28.   29.   30.    0.5]\n",
      " [ 32.   33.   34.   35.   36.   37.   38.    0. ]\n",
      " [ 40.   41.   42.   43.   44.   45.   46.    0. ]\n",
      " [ 48.   49.   50.   51.   52.   53.   54.    0. ]\n",
      " [ 56.   57.   58.   59.   60.   61.   62.    1. ]]\n",
      "0.5\n",
      "左に動け！\n"
     ]
    }
   ],
   "source": [
    "a = np.array(range(64),dtype=np.float32).reshape((8,8))\n",
    "\n",
    "a[: , 7]=0\n",
    "a[3,7]=0.5\n",
    "a[7,7]=1\n",
    "print a[0:8000]\n",
    "if a[7,7]==1:\n",
    "    Max = np.max(a[0:7 , 7])\n",
    "    print Max\n",
    "    if Max==0:\n",
    "        print u'じっとしてろ！'\n",
    "    else:\n",
    "        print u'左に動け！'"
   ]
  },
  {
   "cell_type": "code",
   "execution_count": null,
   "metadata": {
    "collapsed": true
   },
   "outputs": [],
   "source": []
  }
 ],
 "metadata": {
  "kernelspec": {
   "display_name": "Python 2",
   "language": "python",
   "name": "python2"
  },
  "language_info": {
   "codemirror_mode": {
    "name": "ipython",
    "version": 2
   },
   "file_extension": ".py",
   "mimetype": "text/x-python",
   "name": "python",
   "nbconvert_exporter": "python",
   "pygments_lexer": "ipython2",
   "version": "2.7.12"
  }
 },
 "nbformat": 4,
 "nbformat_minor": 0
}
